{
  "nbformat": 4,
  "nbformat_minor": 0,
  "metadata": {
    "colab": {
      "provenance": [],
      "mount_file_id": "1599baUzzdQ7p9neh9hrrDeqWAucQ1oN3",
      "authorship_tag": "ABX9TyMg4IOYABkIYGlELvvH7oZl",
      "include_colab_link": true
    },
    "kernelspec": {
      "name": "python3",
      "display_name": "Python 3"
    },
    "language_info": {
      "name": "python"
    }
  },
  "cells": [
    {
      "cell_type": "markdown",
      "metadata": {
        "id": "view-in-github",
        "colab_type": "text"
      },
      "source": [
        "<a href=\"https://colab.research.google.com/github/PulseProgrammer/Audio_Fingerprint/blob/main/AudioID.ipynb\" target=\"_parent\"><img src=\"https://colab.research.google.com/assets/colab-badge.svg\" alt=\"Open In Colab\"/></a>"
      ]
    },
    {
      "cell_type": "code",
      "execution_count": null,
      "metadata": {
        "id": "UfK8Psaz3EGW"
      },
      "outputs": [],
      "source": [
        "import librosa\n",
        "import numpy as np\n",
        "import os \n",
        "from skimage.feature import peak_local_max\n",
        "from matplotlib import pyplot as plt"
      ]
    },
    {
      "cell_type": "code",
      "source": [
        "!touch /content/output.txt\n",
        "shift_vector = 44100 * 30 // 512      #To account for the shifts as well "
      ],
      "metadata": {
        "id": "6YwYFRlzBQJV"
      },
      "execution_count": null,
      "outputs": []
    },
    {
      "cell_type": "code",
      "source": [
        "def fingerprintbuilder(dbr_path, fing_db):\n",
        "  inverted_list = {}\n",
        "  audio = [x for x in os.listdir(dbr_path) if x.endswith('.wav')]\n",
        "  os.makedirs(fing_db, exist_ok=True)\n",
        "  for file in audio:\n",
        "    y, sr = librosa.load(os.path.join(dbr_path, file), sr = 44100)\n",
        "\n",
        "    # Check if the audio signal is less than 30 seconds long (Have encountered errors when running with this code block)\n",
        "    if len(y) < sr * 30:\n",
        "        # Pad the signal with zeros to make it 30 seconds long\n",
        "        num_zeros = sr * 30 - len(y)\n",
        "        y = np.pad(y, (0, num_zeros))\n",
        "    else:\n",
        "        # Trim the signal to 30 seconds\n",
        "        y = y[:sr * 30]\n",
        "\n",
        "    spec = np.abs(librosa.stft(y=y, n_fft=2048, hop_length=512, center=False))\n",
        "    peaks = peak_local_max(spec, min_distance = 10, threshold_abs = 0.05)\n",
        "\n",
        "    inverted_list= {}\n",
        "    i = 0\n",
        "    while i < len(peaks):\n",
        "      if peaks[i][0] not in inverted_list:\n",
        "        inverted_list[peaks[i][0]] = []           # Keep frequency componet of the spectogram as the key\n",
        "        inverted_list[peaks[i][0]].append(peaks[i][1]) # Keep time componet of the spectogram as the value\n",
        "      i += 1\n",
        "\n",
        "  \n",
        "\n",
        "    file = os.path.splitext(file)[0]\n",
        "    fingerprint = os.path.join(fing_db, file + \".npy\")\n",
        "    np.save(fingerprint, inverted_list)"
      ],
      "metadata": {
        "id": "GYRwzrP53vmx"
      },
      "execution_count": null,
      "outputs": []
    },
    {
      "cell_type": "code",
      "source": [
        "def audioIdentification(qr_path, fing_db, output_file):\n",
        "  fingerprints = [x for x in os.listdir(fing_db) if x.endswith('.npy')]\n",
        "  fing_dict = []\n",
        "  out = \"\"\n",
        "  for fing in fingerprints:\n",
        "    finger_print = np.load(os.path.join(fing_db, fing), allow_pickle = True).item()\n",
        "    fing_dict.append(finger_print)\n",
        "  \n",
        "  q_audio = [x for x in os.listdir(qr_path) if x.endswith('.wav')]\n",
        "  correct = 0\n",
        "  for q_file in q_audio:\n",
        "    y, sr = librosa.load(os.path.join(qr_path, q_file), sr = 44100)\n",
        "    spec = np.abs(librosa.stft(y=y, n_fft=2048, hop_length=512, center=False))\n",
        "    peaks = peak_local_max(spec, min_distance = 10, threshold_abs = 0.05)\n",
        "    \n",
        "    final_values = {}\n",
        "    for fingerprint, fd in zip(fingerprints, fing_dict):\n",
        "      i = 0\n",
        "      match_list = []\n",
        "\n",
        "      while i < len(peaks):\n",
        "        values = np.zeros(shift_vector * 2 + 1)\n",
        "        if peaks[i][0] in fd:\n",
        "          for ts in fd[peaks[i][0]]:\n",
        "            values[ts - peaks[i][1] + shift_vector] = 1\n",
        "            match_list.append(values)\n",
        "        i += 1\n",
        "      total_values = np.array(match_list)\n",
        "\n",
        "      matching_function = np.sum(total_values, axis=0)\n",
        "      maximum = np.max(matching_function)\n",
        "\n",
        "      filename = os.path.splitext(os.path.basename(fingerprint))[0]\n",
        "      final_values[filename] = maximum\n",
        "\n",
        "    final_values = sorted(final_values.items(), key = lambda x: x[1], reverse = True)\n",
        "    q_file = os.path.splitext(os.path.basename(q_file))[0]\n",
        "\n",
        "    out +=  f\"{q_file}\\t\"\n",
        "    for i in range(3):\n",
        "      out+=f\"{final_values[i][0]}\\t\"\n",
        "    out+=\"\\n\"\n",
        "\n",
        "    if q_file in [x[0] for x in final_values[:3]]:\n",
        "      correct+=1\n",
        "    with open(output_file, \"w\") as f:\n",
        "      f.write(out)\n",
        "\n",
        "\n"
      ],
      "metadata": {
        "id": "ST05EuaGMS_8"
      },
      "execution_count": null,
      "outputs": []
    },
    {
      "cell_type": "code",
      "source": [
        "fingerprintbuilder(\"/content/drive/MyDrive/Dataset/database_recordings\",\"/content/DR_Fingerprint\")"
      ],
      "metadata": {
        "id": "Vapu_H2yKF91"
      },
      "execution_count": null,
      "outputs": []
    },
    {
      "cell_type": "code",
      "source": [
        "audioIdentification(\"/content/drive/MyDrive/Dataset/query_recordings\",\"/content/DR_Fingerprint\", \"/content/output.txt\")"
      ],
      "metadata": {
        "id": "JjJyJAj3ktyf"
      },
      "execution_count": null,
      "outputs": []
    },
    {
      "cell_type": "code",
      "source": [
        "with open(\"output.txt\", \"r\") as f:\n",
        "    num_matches = 0\n",
        "    num_lines = 0\n",
        "    for line in f:\n",
        "        filenames = line.strip().split()\n",
        "        ground_truth = filenames[0].split(\"-snippet\")[0]  # extract ground truth filename\n",
        "        for filename in filenames[1:]:  # check if any of the three filenames match the ground truth\n",
        "            if ground_truth in filename:\n",
        "                num_matches += 1\n",
        "                break  # stop checking filenames if match is found\n",
        "        num_lines += 1\n",
        "    \n",
        "accuracy = num_matches / num_lines\n",
        "print(\"Accuracy:\", accuracy * 100)\n"
      ],
      "metadata": {
        "colab": {
          "base_uri": "https://localhost:8080/"
        },
        "id": "_z_b__VHbJ3A",
        "outputId": "0eef72a6-3f1b-4454-b866-51d5a9c08aa7"
      },
      "execution_count": null,
      "outputs": [
        {
          "output_type": "stream",
          "name": "stdout",
          "text": [
            "Accuracy: 80.75117370892019\n"
          ]
        }
      ]
    }
  ]
}